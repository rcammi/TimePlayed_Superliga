{
 "metadata": {
  "language_info": {
   "codemirror_mode": {
    "name": "ipython",
    "version": 3
   },
   "file_extension": ".py",
   "mimetype": "text/x-python",
   "name": "python",
   "nbconvert_exporter": "python",
   "pygments_lexer": "ipython3",
   "version": 3
  },
  "orig_nbformat": 2,
  "kernelspec": {
   "name": "python_defaultSpec_1595548582664",
   "display_name": "Python 3.8.1 64-bit"
  }
 },
 "nbformat": 4,
 "nbformat_minor": 2,
 "cells": [
  {
   "cell_type": "code",
   "execution_count": 1,
   "metadata": {},
   "outputs": [],
   "source": [
    "import pandas as pd\n",
    "import numpy as np\n",
    "import matplotlib.pyplot as plt"
   ]
  },
  {
   "cell_type": "code",
   "execution_count": 216,
   "metadata": {},
   "outputs": [],
   "source": [
    "#reading the data.\n",
    "df = pd.read_csv(\"fbref_data.txt\")\n",
    "df"
   ]
  },
  {
   "cell_type": "code",
   "execution_count": 218,
   "metadata": {},
   "outputs": [
    {
     "output_type": "execute_result",
     "data": {
      "text/plain": "Index(['Rk', 'Player', 'Nation', 'Pos', 'Squad', 'Age', 'Born', 'MP', 'Starts',\n       'Min', 'Gls', 'Ast', 'PK', 'PKatt', 'CrdY', 'CrdR', 'Gls.1', 'Ast.1',\n       'G+A', 'G-PK', 'G+A-PK', 'Matches'],\n      dtype='object')"
     },
     "metadata": {},
     "execution_count": 218
    }
   ],
   "source": [
    "#all columns of dataframe.\n",
    "df.columns"
   ]
  },
  {
   "cell_type": "code",
   "execution_count": 219,
   "metadata": {},
   "outputs": [],
   "source": [
    "#drop columns that we don't need.\n",
    "df.drop(['Gls', 'Ast', 'PK', 'PKatt', 'CrdY', 'CrdR', 'Gls.1',\n",
    "       'Ast.1', 'G+A', 'G-PK', 'G+A-PK', 'Matches'], axis=1, inplace=True)"
   ]
  },
  {
   "cell_type": "code",
   "execution_count": 220,
   "metadata": {},
   "outputs": [
    {
     "output_type": "execute_result",
     "data": {
      "text/plain": "              Rk         Age         Born          MP      Starts          Min\ncount  723.00000  717.000000   717.000000  723.000000  723.000000   723.000000\nmean   362.00000   25.743375  1992.947001   10.652835    8.398340   753.185339\nstd    208.85641    5.116353     5.121429    7.042988    7.111623   611.139390\nmin      1.00000   16.000000  1978.000000    1.000000    0.000000     3.000000\n25%    181.50000   22.000000  1989.000000    4.000000    2.000000   180.000000\n50%    362.00000   25.000000  1994.000000   10.000000    7.000000   623.000000\n75%    542.50000   29.000000  1997.000000   17.000000   14.000000  1240.000000\nmax    723.00000   41.000000  2003.000000   23.000000   23.000000  2070.000000",
      "text/html": "<div>\n<style scoped>\n    .dataframe tbody tr th:only-of-type {\n        vertical-align: middle;\n    }\n\n    .dataframe tbody tr th {\n        vertical-align: top;\n    }\n\n    .dataframe thead th {\n        text-align: right;\n    }\n</style>\n<table border=\"1\" class=\"dataframe\">\n  <thead>\n    <tr style=\"text-align: right;\">\n      <th></th>\n      <th>Rk</th>\n      <th>Age</th>\n      <th>Born</th>\n      <th>MP</th>\n      <th>Starts</th>\n      <th>Min</th>\n    </tr>\n  </thead>\n  <tbody>\n    <tr>\n      <th>count</th>\n      <td>723.00000</td>\n      <td>717.000000</td>\n      <td>717.000000</td>\n      <td>723.000000</td>\n      <td>723.000000</td>\n      <td>723.000000</td>\n    </tr>\n    <tr>\n      <th>mean</th>\n      <td>362.00000</td>\n      <td>25.743375</td>\n      <td>1992.947001</td>\n      <td>10.652835</td>\n      <td>8.398340</td>\n      <td>753.185339</td>\n    </tr>\n    <tr>\n      <th>std</th>\n      <td>208.85641</td>\n      <td>5.116353</td>\n      <td>5.121429</td>\n      <td>7.042988</td>\n      <td>7.111623</td>\n      <td>611.139390</td>\n    </tr>\n    <tr>\n      <th>min</th>\n      <td>1.00000</td>\n      <td>16.000000</td>\n      <td>1978.000000</td>\n      <td>1.000000</td>\n      <td>0.000000</td>\n      <td>3.000000</td>\n    </tr>\n    <tr>\n      <th>25%</th>\n      <td>181.50000</td>\n      <td>22.000000</td>\n      <td>1989.000000</td>\n      <td>4.000000</td>\n      <td>2.000000</td>\n      <td>180.000000</td>\n    </tr>\n    <tr>\n      <th>50%</th>\n      <td>362.00000</td>\n      <td>25.000000</td>\n      <td>1994.000000</td>\n      <td>10.000000</td>\n      <td>7.000000</td>\n      <td>623.000000</td>\n    </tr>\n    <tr>\n      <th>75%</th>\n      <td>542.50000</td>\n      <td>29.000000</td>\n      <td>1997.000000</td>\n      <td>17.000000</td>\n      <td>14.000000</td>\n      <td>1240.000000</td>\n    </tr>\n    <tr>\n      <th>max</th>\n      <td>723.00000</td>\n      <td>41.000000</td>\n      <td>2003.000000</td>\n      <td>23.000000</td>\n      <td>23.000000</td>\n      <td>2070.000000</td>\n    </tr>\n  </tbody>\n</table>\n</div>"
     },
     "metadata": {},
     "execution_count": 220
    }
   ],
   "source": [
    "#take a look to the data.\n",
    "df.describe()"
   ]
  },
  {
   "cell_type": "code",
   "execution_count": 222,
   "metadata": {},
   "outputs": [
    {
     "output_type": "execute_result",
     "data": {
      "text/plain": "Rk        0\nPlayer    0\nNation    0\nPos       0\nSquad     0\nAge       6\nBorn      6\nMP        0\nStarts    0\nMin       0\ndtype: int64"
     },
     "metadata": {},
     "execution_count": 222
    }
   ],
   "source": [
    "#Check NA values.\n",
    "df.isna().sum()"
   ]
  },
  {
   "cell_type": "code",
   "execution_count": 223,
   "metadata": {},
   "outputs": [
    {
     "output_type": "execute_result",
     "data": {
      "text/plain": "      Rk                             Player  Nation   Pos         Squad  Age  \\\n106  107          Juan Álvarez\\Juan-Alvarez  ar ARG  MFFW      Banfield  NaN   \n179  180          Franco Godoy\\Franco-Godoy  ar ARG    DF      CA Unión  NaN   \n244  245          Brian Galván\\Brian-Galvan  ar ARG  MFFW         Colón  NaN   \n377  378    Franco González\\Franco-Gonzalez  ar ARG    MF    Godoy Cruz  NaN   \n437  438        Facundo Pérez\\Facundo-Perez  ar ARG    MF         Lanús  NaN   \n571  572  Rodrigo Villagra\\Rodrigo-Villagra  ar ARG    MF  Rosario Cent  NaN   \n\n     Born  MP  Starts  Min  \n106   NaN  11       9  756  \n179   NaN   2       1   94  \n244   NaN   5       2  251  \n377   NaN   4       2  157  \n437   NaN   4       2  166  \n571   NaN   1       0   15  ",
      "text/html": "<div>\n<style scoped>\n    .dataframe tbody tr th:only-of-type {\n        vertical-align: middle;\n    }\n\n    .dataframe tbody tr th {\n        vertical-align: top;\n    }\n\n    .dataframe thead th {\n        text-align: right;\n    }\n</style>\n<table border=\"1\" class=\"dataframe\">\n  <thead>\n    <tr style=\"text-align: right;\">\n      <th></th>\n      <th>Rk</th>\n      <th>Player</th>\n      <th>Nation</th>\n      <th>Pos</th>\n      <th>Squad</th>\n      <th>Age</th>\n      <th>Born</th>\n      <th>MP</th>\n      <th>Starts</th>\n      <th>Min</th>\n    </tr>\n  </thead>\n  <tbody>\n    <tr>\n      <th>106</th>\n      <td>107</td>\n      <td>Juan Álvarez\\Juan-Alvarez</td>\n      <td>ar ARG</td>\n      <td>MFFW</td>\n      <td>Banfield</td>\n      <td>NaN</td>\n      <td>NaN</td>\n      <td>11</td>\n      <td>9</td>\n      <td>756</td>\n    </tr>\n    <tr>\n      <th>179</th>\n      <td>180</td>\n      <td>Franco Godoy\\Franco-Godoy</td>\n      <td>ar ARG</td>\n      <td>DF</td>\n      <td>CA Unión</td>\n      <td>NaN</td>\n      <td>NaN</td>\n      <td>2</td>\n      <td>1</td>\n      <td>94</td>\n    </tr>\n    <tr>\n      <th>244</th>\n      <td>245</td>\n      <td>Brian Galván\\Brian-Galvan</td>\n      <td>ar ARG</td>\n      <td>MFFW</td>\n      <td>Colón</td>\n      <td>NaN</td>\n      <td>NaN</td>\n      <td>5</td>\n      <td>2</td>\n      <td>251</td>\n    </tr>\n    <tr>\n      <th>377</th>\n      <td>378</td>\n      <td>Franco González\\Franco-Gonzalez</td>\n      <td>ar ARG</td>\n      <td>MF</td>\n      <td>Godoy Cruz</td>\n      <td>NaN</td>\n      <td>NaN</td>\n      <td>4</td>\n      <td>2</td>\n      <td>157</td>\n    </tr>\n    <tr>\n      <th>437</th>\n      <td>438</td>\n      <td>Facundo Pérez\\Facundo-Perez</td>\n      <td>ar ARG</td>\n      <td>MF</td>\n      <td>Lanús</td>\n      <td>NaN</td>\n      <td>NaN</td>\n      <td>4</td>\n      <td>2</td>\n      <td>166</td>\n    </tr>\n    <tr>\n      <th>571</th>\n      <td>572</td>\n      <td>Rodrigo Villagra\\Rodrigo-Villagra</td>\n      <td>ar ARG</td>\n      <td>MF</td>\n      <td>Rosario Cent</td>\n      <td>NaN</td>\n      <td>NaN</td>\n      <td>1</td>\n      <td>0</td>\n      <td>15</td>\n    </tr>\n  </tbody>\n</table>\n</div>"
     },
     "metadata": {},
     "execution_count": 223
    }
   ],
   "source": [
    "#identify rows that are the NA values.\n",
    "null_data = df[df.isnull().any(axis=1)]\n",
    "null_data"
   ]
  },
  {
   "cell_type": "code",
   "execution_count": 224,
   "metadata": {},
   "outputs": [],
   "source": [
    "#fill NA values with real value.\n",
    "df.replace(to_replace={'Age':{np.nan:[24,20,19,21,20,19]},'Born':{np.nan:[1996,2000,2000,1999,1999,2001]}}, inplace=True)"
   ]
  },
  {
   "cell_type": "code",
   "execution_count": 225,
   "metadata": {},
   "outputs": [
    {
     "output_type": "execute_result",
     "data": {
      "text/plain": "Rk        0\nPlayer    0\nNation    0\nPos       0\nSquad     0\nAge       0\nBorn      0\nMP        0\nStarts    0\nMin       0\ndtype: int64"
     },
     "metadata": {},
     "execution_count": 225
    }
   ],
   "source": [
    "#check NA values\n",
    "df.isna().sum()"
   ]
  },
  {
   "cell_type": "code",
   "execution_count": 227,
   "metadata": {},
   "outputs": [
    {
     "output_type": "execute_result",
     "data": {
      "text/plain": "              Rk         Age         Born          MP      Starts          Min\ncount  723.00000  723.000000   723.000000  723.000000  723.000000   723.000000\nmean   362.00000   25.699862  1992.998617   10.652835    8.398340   753.185339\nstd    208.85641    5.119604     5.133265    7.042988    7.111623   611.139390\nmin      1.00000   16.000000  1978.000000    1.000000    0.000000     3.000000\n25%    181.50000   22.000000  1989.000000    4.000000    2.000000   180.000000\n50%    362.00000   25.000000  1994.000000   10.000000    7.000000   623.000000\n75%    542.50000   29.000000  1997.000000   17.000000   14.000000  1240.000000\nmax    723.00000   41.000000  2003.000000   23.000000   23.000000  2070.000000",
      "text/html": "<div>\n<style scoped>\n    .dataframe tbody tr th:only-of-type {\n        vertical-align: middle;\n    }\n\n    .dataframe tbody tr th {\n        vertical-align: top;\n    }\n\n    .dataframe thead th {\n        text-align: right;\n    }\n</style>\n<table border=\"1\" class=\"dataframe\">\n  <thead>\n    <tr style=\"text-align: right;\">\n      <th></th>\n      <th>Rk</th>\n      <th>Age</th>\n      <th>Born</th>\n      <th>MP</th>\n      <th>Starts</th>\n      <th>Min</th>\n    </tr>\n  </thead>\n  <tbody>\n    <tr>\n      <th>count</th>\n      <td>723.00000</td>\n      <td>723.000000</td>\n      <td>723.000000</td>\n      <td>723.000000</td>\n      <td>723.000000</td>\n      <td>723.000000</td>\n    </tr>\n    <tr>\n      <th>mean</th>\n      <td>362.00000</td>\n      <td>25.699862</td>\n      <td>1992.998617</td>\n      <td>10.652835</td>\n      <td>8.398340</td>\n      <td>753.185339</td>\n    </tr>\n    <tr>\n      <th>std</th>\n      <td>208.85641</td>\n      <td>5.119604</td>\n      <td>5.133265</td>\n      <td>7.042988</td>\n      <td>7.111623</td>\n      <td>611.139390</td>\n    </tr>\n    <tr>\n      <th>min</th>\n      <td>1.00000</td>\n      <td>16.000000</td>\n      <td>1978.000000</td>\n      <td>1.000000</td>\n      <td>0.000000</td>\n      <td>3.000000</td>\n    </tr>\n    <tr>\n      <th>25%</th>\n      <td>181.50000</td>\n      <td>22.000000</td>\n      <td>1989.000000</td>\n      <td>4.000000</td>\n      <td>2.000000</td>\n      <td>180.000000</td>\n    </tr>\n    <tr>\n      <th>50%</th>\n      <td>362.00000</td>\n      <td>25.000000</td>\n      <td>1994.000000</td>\n      <td>10.000000</td>\n      <td>7.000000</td>\n      <td>623.000000</td>\n    </tr>\n    <tr>\n      <th>75%</th>\n      <td>542.50000</td>\n      <td>29.000000</td>\n      <td>1997.000000</td>\n      <td>17.000000</td>\n      <td>14.000000</td>\n      <td>1240.000000</td>\n    </tr>\n    <tr>\n      <th>max</th>\n      <td>723.00000</td>\n      <td>41.000000</td>\n      <td>2003.000000</td>\n      <td>23.000000</td>\n      <td>23.000000</td>\n      <td>2070.000000</td>\n    </tr>\n  </tbody>\n</table>\n</div>"
     },
     "metadata": {},
     "execution_count": 227
    }
   ],
   "source": [
    "df.describe()"
   ]
  },
  {
   "cell_type": "code",
   "execution_count": 305,
   "metadata": {},
   "outputs": [
    {
     "output_type": "execute_result",
     "data": {
      "text/plain": "Squad\nAldosivi          28\nArgentinos Jun    28\nArsenal           22\nBanfield          31\nBoca Juniors      28\nCA Huracán        32\nCA Unión          29\nCC Córdoba        31\nColón             34\nDefensa y Just    36\nEstudiantes       27\nGimnasia ELP      35\nGodoy Cruz        38\nIndependiente     31\nLanús             26\nNewell's OB       27\nPatronato         31\nRacing Club       29\nRiver Plate       27\nRosario Cent      30\nSan Lorenzo       40\nTalleres          26\nTucumán           28\nVélez Sarsf       29\nName: Player, dtype: int64"
     },
     "metadata": {},
     "execution_count": 305
    }
   ],
   "source": [
    "#number of player in each squad\n",
    "df.groupby('Squad')['Player'].count()"
   ]
  },
  {
   "cell_type": "code",
   "execution_count": 310,
   "metadata": {},
   "outputs": [
    {
     "output_type": "execute_result",
     "data": {
      "text/plain": "      Rk                                           Player  Nation   Pos  \\\n602  603                      Luis Sequeira\\Luis-Sequeira  ar ARG    MF   \n624  625                    Agustin Hausch\\Agustin-Hausch  ar ARG    FW   \n631  632                    Alexander Díaz\\Alexander-Diaz  ar ARG    FW   \n617  618                  Agustín Peralta\\Agustin-Peralta  ar ARG    DF   \n625  626                        Adolfo Gaich\\Adolfo-Gaich  ar ARG    FW   \n623  624                  Marcelo Herrera\\Marcelo-Herrera  ar ARG  DFMF   \n622  623            Manuel Insaurralde\\Manuel-Insaurralde  ar ARG    MF   \n618  619                  Julián Palacios\\Julian-Palacios  ar ARG    MF   \n615  616                      Elías Pereyra\\Elias-Pereyra  ar ARG    DF   \n616  617                  Mariano Peralta\\Mariano-Peralta  ar ARG    FW   \n637  638                    Nahuel Barrios\\Nahuel-Barrios  ar ARG    MF   \n627  628                Gianluca Ferrari\\Gianluca-Ferrari  ar ARG    DF   \n621  622                    Emanuel Maciel\\Emanuel-Maciel  ar ARG    MF   \n603  604                      Marcos Senesi\\Marcos-Senesi  ar ARG    DF   \n628  629              Nicolás Fernández\\Nicolas-Fernandez  ar ARG    FW   \n638  639                        Adam Bareiro\\Adam-Bareiro  py PAR    FW   \n611  612                        Mauro Pittón\\Mauro-Pitton  ar ARG    MF   \n626  627                    Héctor Fértoli\\Hector-Fertoli  ar ARG    MF   \n608  609                  Nicolás Reniero\\Nicolas-Reniero  ar ARG    MF   \n609  610                        Juan Ramírez\\Juan-Ramirez  ar ARG    MF   \n610  611                Gerónimo Poblete\\Geronimo-Poblete  ar ARG    MF   \n612  613                        Bruno Pittón\\Bruno-Pitton  ar ARG  DFMF   \n629  630  Víctor Ezequiel Salazar\\Victor-Ezequiel-Salazar  ar ARG    DF   \n620  621                      Lucas Menossi\\Lucas-Menossi  ar ARG    MF   \n605  606                        Ángel Romero\\Angel-Romero  py PAR  FWMF   \n633  634                Ezequiel Cerutti\\Ezequiel-Cerutti  ar ARG  MFFW   \n614  615                        Gino Peruzzi\\Gino-Peruzzi  ar ARG    DF   \n604  605                        Óscar Romero\\Oscar-Romero  py PAR  MFFW   \n639  640                          Ramón Arias\\Ramon-Arias  uy URU    DF   \n635  636                    Nicolás Blandi\\Nicolas-Blandi  ar ARG    FW   \n607  608                  Diego Rodríguez\\Diego-Rodriguez  uy URU    MF   \n634  635                          Rubén Botta\\Ruben-Botta  ar ARG    MF   \n600  601                Santiago Vergini\\Santiago-Vergini  ar ARG    DF   \n630  631              Alejandro Donatti\\Alejandro-Donatti  ar ARG    DF   \n613  614                    Ignacio Piatti\\Ignacio-Piatti  ar ARG    MF   \n619  620                  Nicolás Navarro\\Nicolas-Navarro  ar ARG    GK   \n606  607              Gonzalo Rodríguez\\Gonzalo-Rodriguez  ar ARG    DF   \n636  637            Fernando Belluschi\\Fernando-Belluschi  ar ARG    MF   \n632  633            Fabricio Coloccini\\Fabricio-Coloccini  ar ARG    DF   \n601  602              Sebastián Torrico\\Sebastian-Torrico  ar ARG    GK   \n\n           Squad   Age    Born  MP  Starts   Min  \n602  San Lorenzo  16.0  2003.0   2       0     7  \n624  San Lorenzo  16.0  2003.0   1       0    45  \n631  San Lorenzo  19.0  2000.0   8       2   294  \n617  San Lorenzo  19.0  2000.0   1       0    18  \n625  San Lorenzo  20.0  1999.0  12       7   652  \n623  San Lorenzo  20.0  1998.0  12      11   999  \n622  San Lorenzo  20.0  1999.0   1       0    30  \n618  San Lorenzo  20.0  1999.0  10       5   416  \n615  San Lorenzo  20.0  1999.0   1       1    60  \n616  San Lorenzo  21.0  1998.0   1       0    39  \n637  San Lorenzo  21.0  1998.0   9       5   541  \n627  San Lorenzo  22.0  1997.0   6       6   471  \n621  San Lorenzo  22.0  1997.0   1       1    90  \n603  San Lorenzo  22.0  1997.0   4       4   360  \n628  San Lorenzo  23.0  1996.0   4       4   267  \n638  San Lorenzo  23.0  1996.0  11       6   533  \n611  San Lorenzo  24.0  1994.0   8       3   412  \n626  San Lorenzo  24.0  1994.0   2       2   167  \n608  San Lorenzo  24.0  1995.0   2       2   180  \n609  San Lorenzo  26.0  1993.0  16      13  1077  \n610  San Lorenzo  26.0  1993.0  19      19  1570  \n612  San Lorenzo  26.0  1993.0  21      21  1890  \n629  San Lorenzo  26.0  1993.0   5       5   388  \n620  San Lorenzo  27.0  1992.0  14      10   882  \n605  San Lorenzo  27.0  1992.0  20      19  1590  \n633  San Lorenzo  27.0  1992.0   4       2   192  \n614  San Lorenzo  27.0  1992.0   8       8   692  \n604  San Lorenzo  27.0  1992.0  21      13  1257  \n639  San Lorenzo  27.0  1992.0  11       9   883  \n635  San Lorenzo  29.0  1990.0   8       3   280  \n607  San Lorenzo  29.0  1989.0   6       4   383  \n634  San Lorenzo  29.0  1990.0   1       1    61  \n600  San Lorenzo  30.0  1988.0   5       4   342  \n630  San Lorenzo  32.0  1986.0   6       6   540  \n613  San Lorenzo  34.0  1985.0   3       2   146  \n619  San Lorenzo  34.0  1985.0  11      11   990  \n606  San Lorenzo  35.0  1984.0   9       7   742  \n636  San Lorenzo  35.0  1983.0   9       9   645  \n632  San Lorenzo  37.0  1982.0  16      16  1345  \n601  San Lorenzo  39.0  1980.0  12      12  1080  ",
      "text/html": "<div>\n<style scoped>\n    .dataframe tbody tr th:only-of-type {\n        vertical-align: middle;\n    }\n\n    .dataframe tbody tr th {\n        vertical-align: top;\n    }\n\n    .dataframe thead th {\n        text-align: right;\n    }\n</style>\n<table border=\"1\" class=\"dataframe\">\n  <thead>\n    <tr style=\"text-align: right;\">\n      <th></th>\n      <th>Rk</th>\n      <th>Player</th>\n      <th>Nation</th>\n      <th>Pos</th>\n      <th>Squad</th>\n      <th>Age</th>\n      <th>Born</th>\n      <th>MP</th>\n      <th>Starts</th>\n      <th>Min</th>\n    </tr>\n  </thead>\n  <tbody>\n    <tr>\n      <th>602</th>\n      <td>603</td>\n      <td>Luis Sequeira\\Luis-Sequeira</td>\n      <td>ar ARG</td>\n      <td>MF</td>\n      <td>San Lorenzo</td>\n      <td>16.0</td>\n      <td>2003.0</td>\n      <td>2</td>\n      <td>0</td>\n      <td>7</td>\n    </tr>\n    <tr>\n      <th>624</th>\n      <td>625</td>\n      <td>Agustin Hausch\\Agustin-Hausch</td>\n      <td>ar ARG</td>\n      <td>FW</td>\n      <td>San Lorenzo</td>\n      <td>16.0</td>\n      <td>2003.0</td>\n      <td>1</td>\n      <td>0</td>\n      <td>45</td>\n    </tr>\n    <tr>\n      <th>631</th>\n      <td>632</td>\n      <td>Alexander Díaz\\Alexander-Diaz</td>\n      <td>ar ARG</td>\n      <td>FW</td>\n      <td>San Lorenzo</td>\n      <td>19.0</td>\n      <td>2000.0</td>\n      <td>8</td>\n      <td>2</td>\n      <td>294</td>\n    </tr>\n    <tr>\n      <th>617</th>\n      <td>618</td>\n      <td>Agustín Peralta\\Agustin-Peralta</td>\n      <td>ar ARG</td>\n      <td>DF</td>\n      <td>San Lorenzo</td>\n      <td>19.0</td>\n      <td>2000.0</td>\n      <td>1</td>\n      <td>0</td>\n      <td>18</td>\n    </tr>\n    <tr>\n      <th>625</th>\n      <td>626</td>\n      <td>Adolfo Gaich\\Adolfo-Gaich</td>\n      <td>ar ARG</td>\n      <td>FW</td>\n      <td>San Lorenzo</td>\n      <td>20.0</td>\n      <td>1999.0</td>\n      <td>12</td>\n      <td>7</td>\n      <td>652</td>\n    </tr>\n    <tr>\n      <th>623</th>\n      <td>624</td>\n      <td>Marcelo Herrera\\Marcelo-Herrera</td>\n      <td>ar ARG</td>\n      <td>DFMF</td>\n      <td>San Lorenzo</td>\n      <td>20.0</td>\n      <td>1998.0</td>\n      <td>12</td>\n      <td>11</td>\n      <td>999</td>\n    </tr>\n    <tr>\n      <th>622</th>\n      <td>623</td>\n      <td>Manuel Insaurralde\\Manuel-Insaurralde</td>\n      <td>ar ARG</td>\n      <td>MF</td>\n      <td>San Lorenzo</td>\n      <td>20.0</td>\n      <td>1999.0</td>\n      <td>1</td>\n      <td>0</td>\n      <td>30</td>\n    </tr>\n    <tr>\n      <th>618</th>\n      <td>619</td>\n      <td>Julián Palacios\\Julian-Palacios</td>\n      <td>ar ARG</td>\n      <td>MF</td>\n      <td>San Lorenzo</td>\n      <td>20.0</td>\n      <td>1999.0</td>\n      <td>10</td>\n      <td>5</td>\n      <td>416</td>\n    </tr>\n    <tr>\n      <th>615</th>\n      <td>616</td>\n      <td>Elías Pereyra\\Elias-Pereyra</td>\n      <td>ar ARG</td>\n      <td>DF</td>\n      <td>San Lorenzo</td>\n      <td>20.0</td>\n      <td>1999.0</td>\n      <td>1</td>\n      <td>1</td>\n      <td>60</td>\n    </tr>\n    <tr>\n      <th>616</th>\n      <td>617</td>\n      <td>Mariano Peralta\\Mariano-Peralta</td>\n      <td>ar ARG</td>\n      <td>FW</td>\n      <td>San Lorenzo</td>\n      <td>21.0</td>\n      <td>1998.0</td>\n      <td>1</td>\n      <td>0</td>\n      <td>39</td>\n    </tr>\n    <tr>\n      <th>637</th>\n      <td>638</td>\n      <td>Nahuel Barrios\\Nahuel-Barrios</td>\n      <td>ar ARG</td>\n      <td>MF</td>\n      <td>San Lorenzo</td>\n      <td>21.0</td>\n      <td>1998.0</td>\n      <td>9</td>\n      <td>5</td>\n      <td>541</td>\n    </tr>\n    <tr>\n      <th>627</th>\n      <td>628</td>\n      <td>Gianluca Ferrari\\Gianluca-Ferrari</td>\n      <td>ar ARG</td>\n      <td>DF</td>\n      <td>San Lorenzo</td>\n      <td>22.0</td>\n      <td>1997.0</td>\n      <td>6</td>\n      <td>6</td>\n      <td>471</td>\n    </tr>\n    <tr>\n      <th>621</th>\n      <td>622</td>\n      <td>Emanuel Maciel\\Emanuel-Maciel</td>\n      <td>ar ARG</td>\n      <td>MF</td>\n      <td>San Lorenzo</td>\n      <td>22.0</td>\n      <td>1997.0</td>\n      <td>1</td>\n      <td>1</td>\n      <td>90</td>\n    </tr>\n    <tr>\n      <th>603</th>\n      <td>604</td>\n      <td>Marcos Senesi\\Marcos-Senesi</td>\n      <td>ar ARG</td>\n      <td>DF</td>\n      <td>San Lorenzo</td>\n      <td>22.0</td>\n      <td>1997.0</td>\n      <td>4</td>\n      <td>4</td>\n      <td>360</td>\n    </tr>\n    <tr>\n      <th>628</th>\n      <td>629</td>\n      <td>Nicolás Fernández\\Nicolas-Fernandez</td>\n      <td>ar ARG</td>\n      <td>FW</td>\n      <td>San Lorenzo</td>\n      <td>23.0</td>\n      <td>1996.0</td>\n      <td>4</td>\n      <td>4</td>\n      <td>267</td>\n    </tr>\n    <tr>\n      <th>638</th>\n      <td>639</td>\n      <td>Adam Bareiro\\Adam-Bareiro</td>\n      <td>py PAR</td>\n      <td>FW</td>\n      <td>San Lorenzo</td>\n      <td>23.0</td>\n      <td>1996.0</td>\n      <td>11</td>\n      <td>6</td>\n      <td>533</td>\n    </tr>\n    <tr>\n      <th>611</th>\n      <td>612</td>\n      <td>Mauro Pittón\\Mauro-Pitton</td>\n      <td>ar ARG</td>\n      <td>MF</td>\n      <td>San Lorenzo</td>\n      <td>24.0</td>\n      <td>1994.0</td>\n      <td>8</td>\n      <td>3</td>\n      <td>412</td>\n    </tr>\n    <tr>\n      <th>626</th>\n      <td>627</td>\n      <td>Héctor Fértoli\\Hector-Fertoli</td>\n      <td>ar ARG</td>\n      <td>MF</td>\n      <td>San Lorenzo</td>\n      <td>24.0</td>\n      <td>1994.0</td>\n      <td>2</td>\n      <td>2</td>\n      <td>167</td>\n    </tr>\n    <tr>\n      <th>608</th>\n      <td>609</td>\n      <td>Nicolás Reniero\\Nicolas-Reniero</td>\n      <td>ar ARG</td>\n      <td>MF</td>\n      <td>San Lorenzo</td>\n      <td>24.0</td>\n      <td>1995.0</td>\n      <td>2</td>\n      <td>2</td>\n      <td>180</td>\n    </tr>\n    <tr>\n      <th>609</th>\n      <td>610</td>\n      <td>Juan Ramírez\\Juan-Ramirez</td>\n      <td>ar ARG</td>\n      <td>MF</td>\n      <td>San Lorenzo</td>\n      <td>26.0</td>\n      <td>1993.0</td>\n      <td>16</td>\n      <td>13</td>\n      <td>1077</td>\n    </tr>\n    <tr>\n      <th>610</th>\n      <td>611</td>\n      <td>Gerónimo Poblete\\Geronimo-Poblete</td>\n      <td>ar ARG</td>\n      <td>MF</td>\n      <td>San Lorenzo</td>\n      <td>26.0</td>\n      <td>1993.0</td>\n      <td>19</td>\n      <td>19</td>\n      <td>1570</td>\n    </tr>\n    <tr>\n      <th>612</th>\n      <td>613</td>\n      <td>Bruno Pittón\\Bruno-Pitton</td>\n      <td>ar ARG</td>\n      <td>DFMF</td>\n      <td>San Lorenzo</td>\n      <td>26.0</td>\n      <td>1993.0</td>\n      <td>21</td>\n      <td>21</td>\n      <td>1890</td>\n    </tr>\n    <tr>\n      <th>629</th>\n      <td>630</td>\n      <td>Víctor Ezequiel Salazar\\Victor-Ezequiel-Salazar</td>\n      <td>ar ARG</td>\n      <td>DF</td>\n      <td>San Lorenzo</td>\n      <td>26.0</td>\n      <td>1993.0</td>\n      <td>5</td>\n      <td>5</td>\n      <td>388</td>\n    </tr>\n    <tr>\n      <th>620</th>\n      <td>621</td>\n      <td>Lucas Menossi\\Lucas-Menossi</td>\n      <td>ar ARG</td>\n      <td>MF</td>\n      <td>San Lorenzo</td>\n      <td>27.0</td>\n      <td>1992.0</td>\n      <td>14</td>\n      <td>10</td>\n      <td>882</td>\n    </tr>\n    <tr>\n      <th>605</th>\n      <td>606</td>\n      <td>Ángel Romero\\Angel-Romero</td>\n      <td>py PAR</td>\n      <td>FWMF</td>\n      <td>San Lorenzo</td>\n      <td>27.0</td>\n      <td>1992.0</td>\n      <td>20</td>\n      <td>19</td>\n      <td>1590</td>\n    </tr>\n    <tr>\n      <th>633</th>\n      <td>634</td>\n      <td>Ezequiel Cerutti\\Ezequiel-Cerutti</td>\n      <td>ar ARG</td>\n      <td>MFFW</td>\n      <td>San Lorenzo</td>\n      <td>27.0</td>\n      <td>1992.0</td>\n      <td>4</td>\n      <td>2</td>\n      <td>192</td>\n    </tr>\n    <tr>\n      <th>614</th>\n      <td>615</td>\n      <td>Gino Peruzzi\\Gino-Peruzzi</td>\n      <td>ar ARG</td>\n      <td>DF</td>\n      <td>San Lorenzo</td>\n      <td>27.0</td>\n      <td>1992.0</td>\n      <td>8</td>\n      <td>8</td>\n      <td>692</td>\n    </tr>\n    <tr>\n      <th>604</th>\n      <td>605</td>\n      <td>Óscar Romero\\Oscar-Romero</td>\n      <td>py PAR</td>\n      <td>MFFW</td>\n      <td>San Lorenzo</td>\n      <td>27.0</td>\n      <td>1992.0</td>\n      <td>21</td>\n      <td>13</td>\n      <td>1257</td>\n    </tr>\n    <tr>\n      <th>639</th>\n      <td>640</td>\n      <td>Ramón Arias\\Ramon-Arias</td>\n      <td>uy URU</td>\n      <td>DF</td>\n      <td>San Lorenzo</td>\n      <td>27.0</td>\n      <td>1992.0</td>\n      <td>11</td>\n      <td>9</td>\n      <td>883</td>\n    </tr>\n    <tr>\n      <th>635</th>\n      <td>636</td>\n      <td>Nicolás Blandi\\Nicolas-Blandi</td>\n      <td>ar ARG</td>\n      <td>FW</td>\n      <td>San Lorenzo</td>\n      <td>29.0</td>\n      <td>1990.0</td>\n      <td>8</td>\n      <td>3</td>\n      <td>280</td>\n    </tr>\n    <tr>\n      <th>607</th>\n      <td>608</td>\n      <td>Diego Rodríguez\\Diego-Rodriguez</td>\n      <td>uy URU</td>\n      <td>MF</td>\n      <td>San Lorenzo</td>\n      <td>29.0</td>\n      <td>1989.0</td>\n      <td>6</td>\n      <td>4</td>\n      <td>383</td>\n    </tr>\n    <tr>\n      <th>634</th>\n      <td>635</td>\n      <td>Rubén Botta\\Ruben-Botta</td>\n      <td>ar ARG</td>\n      <td>MF</td>\n      <td>San Lorenzo</td>\n      <td>29.0</td>\n      <td>1990.0</td>\n      <td>1</td>\n      <td>1</td>\n      <td>61</td>\n    </tr>\n    <tr>\n      <th>600</th>\n      <td>601</td>\n      <td>Santiago Vergini\\Santiago-Vergini</td>\n      <td>ar ARG</td>\n      <td>DF</td>\n      <td>San Lorenzo</td>\n      <td>30.0</td>\n      <td>1988.0</td>\n      <td>5</td>\n      <td>4</td>\n      <td>342</td>\n    </tr>\n    <tr>\n      <th>630</th>\n      <td>631</td>\n      <td>Alejandro Donatti\\Alejandro-Donatti</td>\n      <td>ar ARG</td>\n      <td>DF</td>\n      <td>San Lorenzo</td>\n      <td>32.0</td>\n      <td>1986.0</td>\n      <td>6</td>\n      <td>6</td>\n      <td>540</td>\n    </tr>\n    <tr>\n      <th>613</th>\n      <td>614</td>\n      <td>Ignacio Piatti\\Ignacio-Piatti</td>\n      <td>ar ARG</td>\n      <td>MF</td>\n      <td>San Lorenzo</td>\n      <td>34.0</td>\n      <td>1985.0</td>\n      <td>3</td>\n      <td>2</td>\n      <td>146</td>\n    </tr>\n    <tr>\n      <th>619</th>\n      <td>620</td>\n      <td>Nicolás Navarro\\Nicolas-Navarro</td>\n      <td>ar ARG</td>\n      <td>GK</td>\n      <td>San Lorenzo</td>\n      <td>34.0</td>\n      <td>1985.0</td>\n      <td>11</td>\n      <td>11</td>\n      <td>990</td>\n    </tr>\n    <tr>\n      <th>606</th>\n      <td>607</td>\n      <td>Gonzalo Rodríguez\\Gonzalo-Rodriguez</td>\n      <td>ar ARG</td>\n      <td>DF</td>\n      <td>San Lorenzo</td>\n      <td>35.0</td>\n      <td>1984.0</td>\n      <td>9</td>\n      <td>7</td>\n      <td>742</td>\n    </tr>\n    <tr>\n      <th>636</th>\n      <td>637</td>\n      <td>Fernando Belluschi\\Fernando-Belluschi</td>\n      <td>ar ARG</td>\n      <td>MF</td>\n      <td>San Lorenzo</td>\n      <td>35.0</td>\n      <td>1983.0</td>\n      <td>9</td>\n      <td>9</td>\n      <td>645</td>\n    </tr>\n    <tr>\n      <th>632</th>\n      <td>633</td>\n      <td>Fabricio Coloccini\\Fabricio-Coloccini</td>\n      <td>ar ARG</td>\n      <td>DF</td>\n      <td>San Lorenzo</td>\n      <td>37.0</td>\n      <td>1982.0</td>\n      <td>16</td>\n      <td>16</td>\n      <td>1345</td>\n    </tr>\n    <tr>\n      <th>601</th>\n      <td>602</td>\n      <td>Sebastián Torrico\\Sebastian-Torrico</td>\n      <td>ar ARG</td>\n      <td>GK</td>\n      <td>San Lorenzo</td>\n      <td>39.0</td>\n      <td>1980.0</td>\n      <td>12</td>\n      <td>12</td>\n      <td>1080</td>\n    </tr>\n  </tbody>\n</table>\n</div>"
     },
     "metadata": {},
     "execution_count": 310
    }
   ],
   "source": [
    "#watching the squad of San Lorenzo because they seem to have many players (strange)\n",
    "df[df['Squad'] == 'San Lorenzo'].sort_values('Age')"
   ]
  },
  {
   "cell_type": "code",
   "execution_count": 286,
   "metadata": {},
   "outputs": [
    {
     "output_type": "execute_result",
     "data": {
      "text/plain": "Squad\nAldosivi           3323\nArgentinos Jun     8671\nArsenal            3129\nBanfield          10658\nBoca Juniors       5558\nCA Huracán         7287\nCA Unión           5836\nCC Córdoba         4548\nColón              4097\nDefensa y Just     6044\nEstudiantes        8644\nGimnasia ELP       7701\nGodoy Cruz        14635\nIndependiente      4488\nLanús              7029\nNewell's OB        3735\nPatronato          2209\nRacing Club        3381\nRiver Plate        9870\nRosario Cent       3496\nSan Lorenzo        4822\nTalleres          14227\nTucumán            2038\nVélez Sarsf       12062\nName: Min, dtype: int64"
     },
     "metadata": {},
     "execution_count": 286
    }
   ],
   "source": [
    "#clasify in 3 groups (young, prime, experienced) the players in order to graph them.\n",
    "\n",
    "#below age 24 its consider a young player.\n",
    "\n",
    "young_age = df[df['Age']<24]\n",
    "\n",
    "young_age = young_age.groupby(['Squad'])['Min'].sum()\n",
    "\n",
    "young_age"
   ]
  },
  {
   "cell_type": "code",
   "execution_count": 287,
   "metadata": {},
   "outputs": [
    {
     "output_type": "execute_result",
     "data": {
      "text/plain": "Squad\nAldosivi          16865\nArgentinos Jun     4226\nArsenal           11925\nBanfield           4112\nBoca Juniors       9946\nCA Huracán         9245\nCA Unión          12618\nCC Córdoba        12654\nColón              9844\nDefensa y Just    13630\nEstudiantes        5335\nGimnasia ELP       6809\nGodoy Cruz         7944\nIndependiente     12668\nLanús             12037\nNewell's OB       10270\nPatronato         11920\nRacing Club        6682\nRiver Plate        3428\nRosario Cent       8909\nSan Lorenzo       11904\nTalleres           6759\nTucumán            9498\nVélez Sarsf        7584\nName: Min, dtype: int64"
     },
     "metadata": {},
     "execution_count": 287
    }
   ],
   "source": [
    "#prime age is between 24 and 29 years old.\n",
    "\n",
    "prime_age = df[df['Age'].between(24,29)]\n",
    "\n",
    "prime_age = prime_age.groupby(['Squad'])['Min'].sum()\n",
    "\n",
    "prime_age"
   ]
  },
  {
   "cell_type": "code",
   "execution_count": 298,
   "metadata": {},
   "outputs": [
    {
     "output_type": "execute_result",
     "data": {
      "text/plain": "Squad\nAldosivi           2515\nArgentinos Jun     9823\nArsenal            7617\nBanfield           7962\nBoca Juniors       7140\nCA Huracán         6201\nCA Unión           4218\nCC Córdoba         5491\nColón              8772\nDefensa y Just     3096\nEstudiantes        8789\nGimnasia ELP       8162\nIndependiente      5462\nLanús              3704\nNewell's OB        8764\nPatronato          8478\nRacing Club       12509\nRiver Plate        9377\nRosario Cent      10365\nSan Lorenzo        5830\nTalleres           1696\nTucumán           11163\nVélez Sarsf        3119\nGodoy Cruz            0\nName: Min, dtype: int64"
     },
     "metadata": {},
     "execution_count": 298
    }
   ],
   "source": [
    "#experienced group is age 30 or above.\n",
    "\n",
    "experienced_age = df[df['Age']>=30]\n",
    "\n",
    "experienced_age = experienced_age.groupby(['Squad'])['Min'].sum()\n",
    "\n",
    "#Godoy Cruz doesn't have player above age 29, so we add it to the dataframe.\n",
    "\n",
    "experienced_age.loc['Godoy Cruz'] = 0\n",
    "\n",
    "experienced_age"
   ]
  },
  {
   "cell_type": "code",
   "execution_count": 300,
   "metadata": {},
   "outputs": [
    {
     "output_type": "execute_result",
     "data": {
      "text/plain": "                Young  Prime  Experienced  Min_Total\nSquad                                               \nAldosivi         3323  16865         2515      22703\nArgentinos Jun   8671   4226         9823      22720\nArsenal          3129  11925         7617      22671\nBanfield        10658   4112         7962      22732\nBoca Juniors     5558   9946         7140      22644\nCA Huracán       7287   9245         6201      22733\nCA Unión         5836  12618         4218      22672\nCC Córdoba       4548  12654         5491      22693\nColón            4097   9844         8772      22713\nDefensa y Just   6044  13630         3096      22770\nEstudiantes      8644   5335         8789      22768\nGimnasia ELP     7701   6809         8162      22672\nGodoy Cruz      14635   7944            0      22579\nIndependiente    4488  12668         5462      22618\nLanús            7029  12037         3704      22770\nNewell's OB      3735  10270         8764      22769\nPatronato        2209  11920         8478      22607\nRacing Club      3381   6682        12509      22572\nRiver Plate      9870   3428         9377      22675\nRosario Cent     3496   8909        10365      22770\nSan Lorenzo      4822  11904         5830      22556\nTalleres        14227   6759         1696      22682\nTucumán          2038   9498        11163      22699\nVélez Sarsf     12062   7584         3119      22765",
      "text/html": "<div>\n<style scoped>\n    .dataframe tbody tr th:only-of-type {\n        vertical-align: middle;\n    }\n\n    .dataframe tbody tr th {\n        vertical-align: top;\n    }\n\n    .dataframe thead th {\n        text-align: right;\n    }\n</style>\n<table border=\"1\" class=\"dataframe\">\n  <thead>\n    <tr style=\"text-align: right;\">\n      <th></th>\n      <th>Young</th>\n      <th>Prime</th>\n      <th>Experienced</th>\n      <th>Min_Total</th>\n    </tr>\n    <tr>\n      <th>Squad</th>\n      <th></th>\n      <th></th>\n      <th></th>\n      <th></th>\n    </tr>\n  </thead>\n  <tbody>\n    <tr>\n      <th>Aldosivi</th>\n      <td>3323</td>\n      <td>16865</td>\n      <td>2515</td>\n      <td>22703</td>\n    </tr>\n    <tr>\n      <th>Argentinos Jun</th>\n      <td>8671</td>\n      <td>4226</td>\n      <td>9823</td>\n      <td>22720</td>\n    </tr>\n    <tr>\n      <th>Arsenal</th>\n      <td>3129</td>\n      <td>11925</td>\n      <td>7617</td>\n      <td>22671</td>\n    </tr>\n    <tr>\n      <th>Banfield</th>\n      <td>10658</td>\n      <td>4112</td>\n      <td>7962</td>\n      <td>22732</td>\n    </tr>\n    <tr>\n      <th>Boca Juniors</th>\n      <td>5558</td>\n      <td>9946</td>\n      <td>7140</td>\n      <td>22644</td>\n    </tr>\n    <tr>\n      <th>CA Huracán</th>\n      <td>7287</td>\n      <td>9245</td>\n      <td>6201</td>\n      <td>22733</td>\n    </tr>\n    <tr>\n      <th>CA Unión</th>\n      <td>5836</td>\n      <td>12618</td>\n      <td>4218</td>\n      <td>22672</td>\n    </tr>\n    <tr>\n      <th>CC Córdoba</th>\n      <td>4548</td>\n      <td>12654</td>\n      <td>5491</td>\n      <td>22693</td>\n    </tr>\n    <tr>\n      <th>Colón</th>\n      <td>4097</td>\n      <td>9844</td>\n      <td>8772</td>\n      <td>22713</td>\n    </tr>\n    <tr>\n      <th>Defensa y Just</th>\n      <td>6044</td>\n      <td>13630</td>\n      <td>3096</td>\n      <td>22770</td>\n    </tr>\n    <tr>\n      <th>Estudiantes</th>\n      <td>8644</td>\n      <td>5335</td>\n      <td>8789</td>\n      <td>22768</td>\n    </tr>\n    <tr>\n      <th>Gimnasia ELP</th>\n      <td>7701</td>\n      <td>6809</td>\n      <td>8162</td>\n      <td>22672</td>\n    </tr>\n    <tr>\n      <th>Godoy Cruz</th>\n      <td>14635</td>\n      <td>7944</td>\n      <td>0</td>\n      <td>22579</td>\n    </tr>\n    <tr>\n      <th>Independiente</th>\n      <td>4488</td>\n      <td>12668</td>\n      <td>5462</td>\n      <td>22618</td>\n    </tr>\n    <tr>\n      <th>Lanús</th>\n      <td>7029</td>\n      <td>12037</td>\n      <td>3704</td>\n      <td>22770</td>\n    </tr>\n    <tr>\n      <th>Newell's OB</th>\n      <td>3735</td>\n      <td>10270</td>\n      <td>8764</td>\n      <td>22769</td>\n    </tr>\n    <tr>\n      <th>Patronato</th>\n      <td>2209</td>\n      <td>11920</td>\n      <td>8478</td>\n      <td>22607</td>\n    </tr>\n    <tr>\n      <th>Racing Club</th>\n      <td>3381</td>\n      <td>6682</td>\n      <td>12509</td>\n      <td>22572</td>\n    </tr>\n    <tr>\n      <th>River Plate</th>\n      <td>9870</td>\n      <td>3428</td>\n      <td>9377</td>\n      <td>22675</td>\n    </tr>\n    <tr>\n      <th>Rosario Cent</th>\n      <td>3496</td>\n      <td>8909</td>\n      <td>10365</td>\n      <td>22770</td>\n    </tr>\n    <tr>\n      <th>San Lorenzo</th>\n      <td>4822</td>\n      <td>11904</td>\n      <td>5830</td>\n      <td>22556</td>\n    </tr>\n    <tr>\n      <th>Talleres</th>\n      <td>14227</td>\n      <td>6759</td>\n      <td>1696</td>\n      <td>22682</td>\n    </tr>\n    <tr>\n      <th>Tucumán</th>\n      <td>2038</td>\n      <td>9498</td>\n      <td>11163</td>\n      <td>22699</td>\n    </tr>\n    <tr>\n      <th>Vélez Sarsf</th>\n      <td>12062</td>\n      <td>7584</td>\n      <td>3119</td>\n      <td>22765</td>\n    </tr>\n  </tbody>\n</table>\n</div>"
     },
     "metadata": {},
     "execution_count": 300
    }
   ],
   "source": [
    "#merge the three clasifications made.\n",
    "\n",
    "first_merge = pd.merge(young_age, prime_age, on='Squad') \n",
    "\n",
    "graph = pd.merge(first_merge, experienced_age, on='Squad').rename(columns={'Min_x':'Young','Min_y':'Prime','Min':'Experienced'})\n",
    "\n",
    "graph['Min_Total'] = graph.sum(axis=1)\n",
    "\n",
    "graph"
   ]
  },
  {
   "cell_type": "code",
   "execution_count": null,
   "metadata": {},
   "outputs": [],
   "source": [
    "#plot graph "
   ]
  }
 ]
}