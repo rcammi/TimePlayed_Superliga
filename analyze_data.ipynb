{
 "metadata": {
  "language_info": {
   "codemirror_mode": {
    "name": "ipython",
    "version": 3
   },
   "file_extension": ".py",
   "mimetype": "text/x-python",
   "name": "python",
   "nbconvert_exporter": "python",
   "pygments_lexer": "ipython3",
   "version": 3
  },
  "orig_nbformat": 2,
  "kernelspec": {
   "name": "python_defaultSpec_1595458474626",
   "display_name": "Python 3.8.1 64-bit"
  }
 },
 "nbformat": 4,
 "nbformat_minor": 2,
 "cells": [
  {
   "cell_type": "code",
   "execution_count": 59,
   "metadata": {},
   "outputs": [],
   "source": [
    "import pandas as pd\n",
    "import numpy as np\n",
    "import matplotlib.pyplot as plt"
   ]
  },
  {
   "cell_type": "code",
   "execution_count": 60,
   "metadata": {},
   "outputs": [],
   "source": [
    "df = pd.read_csv(\"fbref_data.txt\")"
   ]
  },
  {
   "cell_type": "code",
   "execution_count": 61,
   "metadata": {},
   "outputs": [
    {
     "output_type": "execute_result",
     "data": {
      "text/plain": "      Rk                           Player  Nation   Pos        Squad   Age  \\\n0      1          Nahuel Yeri\\Nahuel-Yeri  ar ARG  MFDF     Aldosivi  27.0   \n1      2    Lucas Villalba\\Lucas-Villalba  ar ARG    DF     Aldosivi  24.0   \n2      3      Gonzalo Verón\\Gonzalo-Veron  ar ARG    FW     Aldosivi  29.0   \n3      4  Facundo Tobares\\Facundo-Tobares  ar ARG    FW     Aldosivi  19.0   \n4      5    Nazareno Solís\\Nazareno-Solis  ar ARG  FWMF     Aldosivi  25.0   \n..   ...                              ...     ...   ...          ...   ...   \n718  719    Agustín Bouzat\\Agustin-Bouzat  ar ARG  FWMF  Vélez Sarsf  25.0   \n719  720    Álvaro Barreal\\Alvaro-Barreal  ar ARG    MF  Vélez Sarsf  18.0   \n720  721      Ricky Álvarez\\Ricky-Alvarez  ar ARG    MF  Vélez Sarsf  31.0   \n721  722      Thiago Almada\\Thiago-Almada  ar ARG  MFFW  Vélez Sarsf  18.0   \n722  723            Luis Abram\\Luis-Abram  pe PER    DF  Vélez Sarsf  23.0   \n\n       Born  MP  Starts   Min  ...  PK  PKatt  CrdY  CrdR  Gls.1  Ast.1   G+A  \\\n0    1991.0   4       2   190  ...   0      0     1     0   0.00   0.00  0.00   \n1    1994.0  21      21  1890  ...   0      0     6     0   0.00   0.10  0.10   \n2    1989.0  16      13  1069  ...   0      0     1     0   0.08   0.08  0.17   \n3    2000.0   1       0    56  ...   0      0     0     0   0.00   0.00  0.00   \n4    1994.0  17      14  1209  ...   0      0     3     0   0.15   0.07  0.22   \n..      ...  ..     ...   ...  ...  ..    ...   ...   ...    ...    ...   ...   \n718  1994.0  19      17  1338  ...   0      0     4     0   0.00   0.00  0.00   \n719  2000.0   5       1   114  ...   0      0     0     0   0.00   0.00  0.00   \n720  1988.0   1       0    11  ...   0      0     0     0   0.00   0.00  0.00   \n721  2001.0  22      10  1203  ...   1      1     0     0   0.30   0.00  0.30   \n722  1996.0  19      19  1690  ...   0      0     4     1   0.00   0.00  0.00   \n\n     G-PK  G+A-PK  Matches  \n0    0.00    0.00  Matches  \n1    0.00    0.10  Matches  \n2    0.08    0.17  Matches  \n3    0.00    0.00  Matches  \n4    0.15    0.22  Matches  \n..    ...     ...      ...  \n718  0.00    0.00  Matches  \n719  0.00    0.00  Matches  \n720  0.00    0.00  Matches  \n721  0.22    0.22  Matches  \n722  0.00    0.00  Matches  \n\n[723 rows x 22 columns]",
      "text/html": "<div>\n<style scoped>\n    .dataframe tbody tr th:only-of-type {\n        vertical-align: middle;\n    }\n\n    .dataframe tbody tr th {\n        vertical-align: top;\n    }\n\n    .dataframe thead th {\n        text-align: right;\n    }\n</style>\n<table border=\"1\" class=\"dataframe\">\n  <thead>\n    <tr style=\"text-align: right;\">\n      <th></th>\n      <th>Rk</th>\n      <th>Player</th>\n      <th>Nation</th>\n      <th>Pos</th>\n      <th>Squad</th>\n      <th>Age</th>\n      <th>Born</th>\n      <th>MP</th>\n      <th>Starts</th>\n      <th>Min</th>\n      <th>...</th>\n      <th>PK</th>\n      <th>PKatt</th>\n      <th>CrdY</th>\n      <th>CrdR</th>\n      <th>Gls.1</th>\n      <th>Ast.1</th>\n      <th>G+A</th>\n      <th>G-PK</th>\n      <th>G+A-PK</th>\n      <th>Matches</th>\n    </tr>\n  </thead>\n  <tbody>\n    <tr>\n      <th>0</th>\n      <td>1</td>\n      <td>Nahuel Yeri\\Nahuel-Yeri</td>\n      <td>ar ARG</td>\n      <td>MFDF</td>\n      <td>Aldosivi</td>\n      <td>27.0</td>\n      <td>1991.0</td>\n      <td>4</td>\n      <td>2</td>\n      <td>190</td>\n      <td>...</td>\n      <td>0</td>\n      <td>0</td>\n      <td>1</td>\n      <td>0</td>\n      <td>0.00</td>\n      <td>0.00</td>\n      <td>0.00</td>\n      <td>0.00</td>\n      <td>0.00</td>\n      <td>Matches</td>\n    </tr>\n    <tr>\n      <th>1</th>\n      <td>2</td>\n      <td>Lucas Villalba\\Lucas-Villalba</td>\n      <td>ar ARG</td>\n      <td>DF</td>\n      <td>Aldosivi</td>\n      <td>24.0</td>\n      <td>1994.0</td>\n      <td>21</td>\n      <td>21</td>\n      <td>1890</td>\n      <td>...</td>\n      <td>0</td>\n      <td>0</td>\n      <td>6</td>\n      <td>0</td>\n      <td>0.00</td>\n      <td>0.10</td>\n      <td>0.10</td>\n      <td>0.00</td>\n      <td>0.10</td>\n      <td>Matches</td>\n    </tr>\n    <tr>\n      <th>2</th>\n      <td>3</td>\n      <td>Gonzalo Verón\\Gonzalo-Veron</td>\n      <td>ar ARG</td>\n      <td>FW</td>\n      <td>Aldosivi</td>\n      <td>29.0</td>\n      <td>1989.0</td>\n      <td>16</td>\n      <td>13</td>\n      <td>1069</td>\n      <td>...</td>\n      <td>0</td>\n      <td>0</td>\n      <td>1</td>\n      <td>0</td>\n      <td>0.08</td>\n      <td>0.08</td>\n      <td>0.17</td>\n      <td>0.08</td>\n      <td>0.17</td>\n      <td>Matches</td>\n    </tr>\n    <tr>\n      <th>3</th>\n      <td>4</td>\n      <td>Facundo Tobares\\Facundo-Tobares</td>\n      <td>ar ARG</td>\n      <td>FW</td>\n      <td>Aldosivi</td>\n      <td>19.0</td>\n      <td>2000.0</td>\n      <td>1</td>\n      <td>0</td>\n      <td>56</td>\n      <td>...</td>\n      <td>0</td>\n      <td>0</td>\n      <td>0</td>\n      <td>0</td>\n      <td>0.00</td>\n      <td>0.00</td>\n      <td>0.00</td>\n      <td>0.00</td>\n      <td>0.00</td>\n      <td>Matches</td>\n    </tr>\n    <tr>\n      <th>4</th>\n      <td>5</td>\n      <td>Nazareno Solís\\Nazareno-Solis</td>\n      <td>ar ARG</td>\n      <td>FWMF</td>\n      <td>Aldosivi</td>\n      <td>25.0</td>\n      <td>1994.0</td>\n      <td>17</td>\n      <td>14</td>\n      <td>1209</td>\n      <td>...</td>\n      <td>0</td>\n      <td>0</td>\n      <td>3</td>\n      <td>0</td>\n      <td>0.15</td>\n      <td>0.07</td>\n      <td>0.22</td>\n      <td>0.15</td>\n      <td>0.22</td>\n      <td>Matches</td>\n    </tr>\n    <tr>\n      <th>...</th>\n      <td>...</td>\n      <td>...</td>\n      <td>...</td>\n      <td>...</td>\n      <td>...</td>\n      <td>...</td>\n      <td>...</td>\n      <td>...</td>\n      <td>...</td>\n      <td>...</td>\n      <td>...</td>\n      <td>...</td>\n      <td>...</td>\n      <td>...</td>\n      <td>...</td>\n      <td>...</td>\n      <td>...</td>\n      <td>...</td>\n      <td>...</td>\n      <td>...</td>\n      <td>...</td>\n    </tr>\n    <tr>\n      <th>718</th>\n      <td>719</td>\n      <td>Agustín Bouzat\\Agustin-Bouzat</td>\n      <td>ar ARG</td>\n      <td>FWMF</td>\n      <td>Vélez Sarsf</td>\n      <td>25.0</td>\n      <td>1994.0</td>\n      <td>19</td>\n      <td>17</td>\n      <td>1338</td>\n      <td>...</td>\n      <td>0</td>\n      <td>0</td>\n      <td>4</td>\n      <td>0</td>\n      <td>0.00</td>\n      <td>0.00</td>\n      <td>0.00</td>\n      <td>0.00</td>\n      <td>0.00</td>\n      <td>Matches</td>\n    </tr>\n    <tr>\n      <th>719</th>\n      <td>720</td>\n      <td>Álvaro Barreal\\Alvaro-Barreal</td>\n      <td>ar ARG</td>\n      <td>MF</td>\n      <td>Vélez Sarsf</td>\n      <td>18.0</td>\n      <td>2000.0</td>\n      <td>5</td>\n      <td>1</td>\n      <td>114</td>\n      <td>...</td>\n      <td>0</td>\n      <td>0</td>\n      <td>0</td>\n      <td>0</td>\n      <td>0.00</td>\n      <td>0.00</td>\n      <td>0.00</td>\n      <td>0.00</td>\n      <td>0.00</td>\n      <td>Matches</td>\n    </tr>\n    <tr>\n      <th>720</th>\n      <td>721</td>\n      <td>Ricky Álvarez\\Ricky-Alvarez</td>\n      <td>ar ARG</td>\n      <td>MF</td>\n      <td>Vélez Sarsf</td>\n      <td>31.0</td>\n      <td>1988.0</td>\n      <td>1</td>\n      <td>0</td>\n      <td>11</td>\n      <td>...</td>\n      <td>0</td>\n      <td>0</td>\n      <td>0</td>\n      <td>0</td>\n      <td>0.00</td>\n      <td>0.00</td>\n      <td>0.00</td>\n      <td>0.00</td>\n      <td>0.00</td>\n      <td>Matches</td>\n    </tr>\n    <tr>\n      <th>721</th>\n      <td>722</td>\n      <td>Thiago Almada\\Thiago-Almada</td>\n      <td>ar ARG</td>\n      <td>MFFW</td>\n      <td>Vélez Sarsf</td>\n      <td>18.0</td>\n      <td>2001.0</td>\n      <td>22</td>\n      <td>10</td>\n      <td>1203</td>\n      <td>...</td>\n      <td>1</td>\n      <td>1</td>\n      <td>0</td>\n      <td>0</td>\n      <td>0.30</td>\n      <td>0.00</td>\n      <td>0.30</td>\n      <td>0.22</td>\n      <td>0.22</td>\n      <td>Matches</td>\n    </tr>\n    <tr>\n      <th>722</th>\n      <td>723</td>\n      <td>Luis Abram\\Luis-Abram</td>\n      <td>pe PER</td>\n      <td>DF</td>\n      <td>Vélez Sarsf</td>\n      <td>23.0</td>\n      <td>1996.0</td>\n      <td>19</td>\n      <td>19</td>\n      <td>1690</td>\n      <td>...</td>\n      <td>0</td>\n      <td>0</td>\n      <td>4</td>\n      <td>1</td>\n      <td>0.00</td>\n      <td>0.00</td>\n      <td>0.00</td>\n      <td>0.00</td>\n      <td>0.00</td>\n      <td>Matches</td>\n    </tr>\n  </tbody>\n</table>\n<p>723 rows × 22 columns</p>\n</div>"
     },
     "metadata": {},
     "execution_count": 61
    }
   ],
   "source": [
    "df"
   ]
  },
  {
   "cell_type": "code",
   "execution_count": 24,
   "metadata": {},
   "outputs": [
    {
     "output_type": "execute_result",
     "data": {
      "text/plain": "Index(['Rk', 'Player', 'Nation', 'Pos', 'Squad', 'Age', 'Born', 'MP', 'Starts',\n       'Min', 'Gls', 'Ast', 'PK', 'PKatt', 'CrdY', 'CrdR', 'Gls.1', 'Ast.1',\n       'G+A', 'G-PK', 'G+A-PK', 'Matches'],\n      dtype='object')"
     },
     "metadata": {},
     "execution_count": 24
    }
   ],
   "source": [
    "df.columns"
   ]
  },
  {
   "cell_type": "code",
   "execution_count": 25,
   "metadata": {},
   "outputs": [],
   "source": [
    "#drop columns that we don't need\n",
    "df.drop(['Gls', 'Ast', 'PK', 'PKatt', 'CrdY', 'CrdR', 'Gls.1',\n",
    "       'Ast.1', 'G+A', 'G-PK', 'G+A-PK', 'Matches'], axis=1, inplace=True)"
   ]
  },
  {
   "cell_type": "code",
   "execution_count": 30,
   "metadata": {},
   "outputs": [
    {
     "output_type": "execute_result",
     "data": {
      "text/plain": "              Rk         Age         Born          MP      Starts          Min\ncount  723.00000  717.000000   717.000000  723.000000  723.000000   723.000000\nmean   362.00000   25.743375  1992.947001   10.652835    8.398340   753.185339\nstd    208.85641    5.116353     5.121429    7.042988    7.111623   611.139390\nmin      1.00000   16.000000  1978.000000    1.000000    0.000000     3.000000\n25%    181.50000   22.000000  1989.000000    4.000000    2.000000   180.000000\n50%    362.00000   25.000000  1994.000000   10.000000    7.000000   623.000000\n75%    542.50000   29.000000  1997.000000   17.000000   14.000000  1240.000000\nmax    723.00000   41.000000  2003.000000   23.000000   23.000000  2070.000000",
      "text/html": "<div>\n<style scoped>\n    .dataframe tbody tr th:only-of-type {\n        vertical-align: middle;\n    }\n\n    .dataframe tbody tr th {\n        vertical-align: top;\n    }\n\n    .dataframe thead th {\n        text-align: right;\n    }\n</style>\n<table border=\"1\" class=\"dataframe\">\n  <thead>\n    <tr style=\"text-align: right;\">\n      <th></th>\n      <th>Rk</th>\n      <th>Age</th>\n      <th>Born</th>\n      <th>MP</th>\n      <th>Starts</th>\n      <th>Min</th>\n    </tr>\n  </thead>\n  <tbody>\n    <tr>\n      <th>count</th>\n      <td>723.00000</td>\n      <td>717.000000</td>\n      <td>717.000000</td>\n      <td>723.000000</td>\n      <td>723.000000</td>\n      <td>723.000000</td>\n    </tr>\n    <tr>\n      <th>mean</th>\n      <td>362.00000</td>\n      <td>25.743375</td>\n      <td>1992.947001</td>\n      <td>10.652835</td>\n      <td>8.398340</td>\n      <td>753.185339</td>\n    </tr>\n    <tr>\n      <th>std</th>\n      <td>208.85641</td>\n      <td>5.116353</td>\n      <td>5.121429</td>\n      <td>7.042988</td>\n      <td>7.111623</td>\n      <td>611.139390</td>\n    </tr>\n    <tr>\n      <th>min</th>\n      <td>1.00000</td>\n      <td>16.000000</td>\n      <td>1978.000000</td>\n      <td>1.000000</td>\n      <td>0.000000</td>\n      <td>3.000000</td>\n    </tr>\n    <tr>\n      <th>25%</th>\n      <td>181.50000</td>\n      <td>22.000000</td>\n      <td>1989.000000</td>\n      <td>4.000000</td>\n      <td>2.000000</td>\n      <td>180.000000</td>\n    </tr>\n    <tr>\n      <th>50%</th>\n      <td>362.00000</td>\n      <td>25.000000</td>\n      <td>1994.000000</td>\n      <td>10.000000</td>\n      <td>7.000000</td>\n      <td>623.000000</td>\n    </tr>\n    <tr>\n      <th>75%</th>\n      <td>542.50000</td>\n      <td>29.000000</td>\n      <td>1997.000000</td>\n      <td>17.000000</td>\n      <td>14.000000</td>\n      <td>1240.000000</td>\n    </tr>\n    <tr>\n      <th>max</th>\n      <td>723.00000</td>\n      <td>41.000000</td>\n      <td>2003.000000</td>\n      <td>23.000000</td>\n      <td>23.000000</td>\n      <td>2070.000000</td>\n    </tr>\n  </tbody>\n</table>\n</div>"
     },
     "metadata": {},
     "execution_count": 30
    }
   ],
   "source": [
    "df.describe()"
   ]
  },
  {
   "cell_type": "code",
   "execution_count": 32,
   "metadata": {},
   "outputs": [
    {
     "output_type": "execute_result",
     "data": {
      "text/plain": "Rk        0\nPlayer    0\nNation    0\nPos       0\nSquad     0\nAge       6\nBorn      6\nMP        0\nStarts    0\nMin       0\ndtype: int64"
     },
     "metadata": {},
     "execution_count": 32
    }
   ],
   "source": [
    "#find NA values\n",
    "df.isna().sum()"
   ]
  },
  {
   "cell_type": "code",
   "execution_count": 39,
   "metadata": {},
   "outputs": [
    {
     "output_type": "execute_result",
     "data": {
      "text/plain": "      Rk                             Player  Nation   Pos         Squad  Age  \\\n106  107          Juan Álvarez\\Juan-Alvarez  ar ARG  MFFW      Banfield  NaN   \n179  180          Franco Godoy\\Franco-Godoy  ar ARG    DF      CA Unión  NaN   \n244  245          Brian Galván\\Brian-Galvan  ar ARG  MFFW         Colón  NaN   \n377  378    Franco González\\Franco-Gonzalez  ar ARG    MF    Godoy Cruz  NaN   \n437  438        Facundo Pérez\\Facundo-Perez  ar ARG    MF         Lanús  NaN   \n571  572  Rodrigo Villagra\\Rodrigo-Villagra  ar ARG    MF  Rosario Cent  NaN   \n\n     Born  MP  Starts  Min  \n106   NaN  11       9  756  \n179   NaN   2       1   94  \n244   NaN   5       2  251  \n377   NaN   4       2  157  \n437   NaN   4       2  166  \n571   NaN   1       0   15  ",
      "text/html": "<div>\n<style scoped>\n    .dataframe tbody tr th:only-of-type {\n        vertical-align: middle;\n    }\n\n    .dataframe tbody tr th {\n        vertical-align: top;\n    }\n\n    .dataframe thead th {\n        text-align: right;\n    }\n</style>\n<table border=\"1\" class=\"dataframe\">\n  <thead>\n    <tr style=\"text-align: right;\">\n      <th></th>\n      <th>Rk</th>\n      <th>Player</th>\n      <th>Nation</th>\n      <th>Pos</th>\n      <th>Squad</th>\n      <th>Age</th>\n      <th>Born</th>\n      <th>MP</th>\n      <th>Starts</th>\n      <th>Min</th>\n    </tr>\n  </thead>\n  <tbody>\n    <tr>\n      <th>106</th>\n      <td>107</td>\n      <td>Juan Álvarez\\Juan-Alvarez</td>\n      <td>ar ARG</td>\n      <td>MFFW</td>\n      <td>Banfield</td>\n      <td>NaN</td>\n      <td>NaN</td>\n      <td>11</td>\n      <td>9</td>\n      <td>756</td>\n    </tr>\n    <tr>\n      <th>179</th>\n      <td>180</td>\n      <td>Franco Godoy\\Franco-Godoy</td>\n      <td>ar ARG</td>\n      <td>DF</td>\n      <td>CA Unión</td>\n      <td>NaN</td>\n      <td>NaN</td>\n      <td>2</td>\n      <td>1</td>\n      <td>94</td>\n    </tr>\n    <tr>\n      <th>244</th>\n      <td>245</td>\n      <td>Brian Galván\\Brian-Galvan</td>\n      <td>ar ARG</td>\n      <td>MFFW</td>\n      <td>Colón</td>\n      <td>NaN</td>\n      <td>NaN</td>\n      <td>5</td>\n      <td>2</td>\n      <td>251</td>\n    </tr>\n    <tr>\n      <th>377</th>\n      <td>378</td>\n      <td>Franco González\\Franco-Gonzalez</td>\n      <td>ar ARG</td>\n      <td>MF</td>\n      <td>Godoy Cruz</td>\n      <td>NaN</td>\n      <td>NaN</td>\n      <td>4</td>\n      <td>2</td>\n      <td>157</td>\n    </tr>\n    <tr>\n      <th>437</th>\n      <td>438</td>\n      <td>Facundo Pérez\\Facundo-Perez</td>\n      <td>ar ARG</td>\n      <td>MF</td>\n      <td>Lanús</td>\n      <td>NaN</td>\n      <td>NaN</td>\n      <td>4</td>\n      <td>2</td>\n      <td>166</td>\n    </tr>\n    <tr>\n      <th>571</th>\n      <td>572</td>\n      <td>Rodrigo Villagra\\Rodrigo-Villagra</td>\n      <td>ar ARG</td>\n      <td>MF</td>\n      <td>Rosario Cent</td>\n      <td>NaN</td>\n      <td>NaN</td>\n      <td>1</td>\n      <td>0</td>\n      <td>15</td>\n    </tr>\n  </tbody>\n</table>\n</div>"
     },
     "metadata": {},
     "execution_count": 39
    }
   ],
   "source": [
    "#rows that are the NA values\n",
    "null_data = df[df.isnull().any(axis=1)]\n",
    "null_data"
   ]
  },
  {
   "cell_type": "code",
   "execution_count": 58,
   "metadata": {},
   "outputs": [
    {
     "output_type": "execute_result",
     "data": {
      "text/plain": "Rk        0\nPlayer    0\nNation    0\nPos       0\nSquad     0\nAge       0\nBorn      0\nMP        0\nStarts    0\nMin       0\ndtype: int64"
     },
     "metadata": {},
     "execution_count": 58
    }
   ],
   "source": [
    "#fill NA values with real value\n",
    "#values = {'Age':[24,20,19,21,20,19], 'Born':[1996,2000,2000,1999,1999,2001]}\n",
    "values = {'Age':24, 'Born':1996}\n",
    "\n",
    "#df.fillna(value=values, inplace=True)\n",
    "\n"
   ]
  },
  {
   "cell_type": "code",
   "execution_count": 55,
   "metadata": {},
   "outputs": [
    {
     "output_type": "execute_result",
     "data": {
      "text/plain": "Rk        0\nPlayer    0\nNation    0\nPos       0\nSquad     0\nAge       6\nBorn      6\nMP        0\nStarts    0\nMin       0\ndtype: int64"
     },
     "metadata": {},
     "execution_count": 55
    }
   ],
   "source": [
    "#check NA values\n",
    "df.isna().sum()"
   ]
  },
  {
   "cell_type": "code",
   "execution_count": 44,
   "metadata": {},
   "outputs": [
    {
     "output_type": "execute_result",
     "data": {
      "text/plain": "      Rk                           Player  Nation   Pos        Squad   Age  \\\n0      1          Nahuel Yeri\\Nahuel-Yeri  ar ARG  MFDF     Aldosivi  27.0   \n1      2    Lucas Villalba\\Lucas-Villalba  ar ARG    DF     Aldosivi  24.0   \n2      3      Gonzalo Verón\\Gonzalo-Veron  ar ARG    FW     Aldosivi  29.0   \n3      4  Facundo Tobares\\Facundo-Tobares  ar ARG    FW     Aldosivi  19.0   \n4      5    Nazareno Solís\\Nazareno-Solis  ar ARG  FWMF     Aldosivi  25.0   \n..   ...                              ...     ...   ...          ...   ...   \n718  719    Agustín Bouzat\\Agustin-Bouzat  ar ARG  FWMF  Vélez Sarsf  25.0   \n719  720    Álvaro Barreal\\Alvaro-Barreal  ar ARG    MF  Vélez Sarsf  18.0   \n720  721      Ricky Álvarez\\Ricky-Alvarez  ar ARG    MF  Vélez Sarsf  31.0   \n721  722      Thiago Almada\\Thiago-Almada  ar ARG  MFFW  Vélez Sarsf  18.0   \n722  723            Luis Abram\\Luis-Abram  pe PER    DF  Vélez Sarsf  23.0   \n\n       Born  MP  Starts   Min  \n0    1991.0   4       2   190  \n1    1994.0  21      21  1890  \n2    1989.0  16      13  1069  \n3    2000.0   1       0    56  \n4    1994.0  17      14  1209  \n..      ...  ..     ...   ...  \n718  1994.0  19      17  1338  \n719  2000.0   5       1   114  \n720  1988.0   1       0    11  \n721  2001.0  22      10  1203  \n722  1996.0  19      19  1690  \n\n[723 rows x 10 columns]",
      "text/html": "<div>\n<style scoped>\n    .dataframe tbody tr th:only-of-type {\n        vertical-align: middle;\n    }\n\n    .dataframe tbody tr th {\n        vertical-align: top;\n    }\n\n    .dataframe thead th {\n        text-align: right;\n    }\n</style>\n<table border=\"1\" class=\"dataframe\">\n  <thead>\n    <tr style=\"text-align: right;\">\n      <th></th>\n      <th>Rk</th>\n      <th>Player</th>\n      <th>Nation</th>\n      <th>Pos</th>\n      <th>Squad</th>\n      <th>Age</th>\n      <th>Born</th>\n      <th>MP</th>\n      <th>Starts</th>\n      <th>Min</th>\n    </tr>\n  </thead>\n  <tbody>\n    <tr>\n      <th>0</th>\n      <td>1</td>\n      <td>Nahuel Yeri\\Nahuel-Yeri</td>\n      <td>ar ARG</td>\n      <td>MFDF</td>\n      <td>Aldosivi</td>\n      <td>27.0</td>\n      <td>1991.0</td>\n      <td>4</td>\n      <td>2</td>\n      <td>190</td>\n    </tr>\n    <tr>\n      <th>1</th>\n      <td>2</td>\n      <td>Lucas Villalba\\Lucas-Villalba</td>\n      <td>ar ARG</td>\n      <td>DF</td>\n      <td>Aldosivi</td>\n      <td>24.0</td>\n      <td>1994.0</td>\n      <td>21</td>\n      <td>21</td>\n      <td>1890</td>\n    </tr>\n    <tr>\n      <th>2</th>\n      <td>3</td>\n      <td>Gonzalo Verón\\Gonzalo-Veron</td>\n      <td>ar ARG</td>\n      <td>FW</td>\n      <td>Aldosivi</td>\n      <td>29.0</td>\n      <td>1989.0</td>\n      <td>16</td>\n      <td>13</td>\n      <td>1069</td>\n    </tr>\n    <tr>\n      <th>3</th>\n      <td>4</td>\n      <td>Facundo Tobares\\Facundo-Tobares</td>\n      <td>ar ARG</td>\n      <td>FW</td>\n      <td>Aldosivi</td>\n      <td>19.0</td>\n      <td>2000.0</td>\n      <td>1</td>\n      <td>0</td>\n      <td>56</td>\n    </tr>\n    <tr>\n      <th>4</th>\n      <td>5</td>\n      <td>Nazareno Solís\\Nazareno-Solis</td>\n      <td>ar ARG</td>\n      <td>FWMF</td>\n      <td>Aldosivi</td>\n      <td>25.0</td>\n      <td>1994.0</td>\n      <td>17</td>\n      <td>14</td>\n      <td>1209</td>\n    </tr>\n    <tr>\n      <th>...</th>\n      <td>...</td>\n      <td>...</td>\n      <td>...</td>\n      <td>...</td>\n      <td>...</td>\n      <td>...</td>\n      <td>...</td>\n      <td>...</td>\n      <td>...</td>\n      <td>...</td>\n    </tr>\n    <tr>\n      <th>718</th>\n      <td>719</td>\n      <td>Agustín Bouzat\\Agustin-Bouzat</td>\n      <td>ar ARG</td>\n      <td>FWMF</td>\n      <td>Vélez Sarsf</td>\n      <td>25.0</td>\n      <td>1994.0</td>\n      <td>19</td>\n      <td>17</td>\n      <td>1338</td>\n    </tr>\n    <tr>\n      <th>719</th>\n      <td>720</td>\n      <td>Álvaro Barreal\\Alvaro-Barreal</td>\n      <td>ar ARG</td>\n      <td>MF</td>\n      <td>Vélez Sarsf</td>\n      <td>18.0</td>\n      <td>2000.0</td>\n      <td>5</td>\n      <td>1</td>\n      <td>114</td>\n    </tr>\n    <tr>\n      <th>720</th>\n      <td>721</td>\n      <td>Ricky Álvarez\\Ricky-Alvarez</td>\n      <td>ar ARG</td>\n      <td>MF</td>\n      <td>Vélez Sarsf</td>\n      <td>31.0</td>\n      <td>1988.0</td>\n      <td>1</td>\n      <td>0</td>\n      <td>11</td>\n    </tr>\n    <tr>\n      <th>721</th>\n      <td>722</td>\n      <td>Thiago Almada\\Thiago-Almada</td>\n      <td>ar ARG</td>\n      <td>MFFW</td>\n      <td>Vélez Sarsf</td>\n      <td>18.0</td>\n      <td>2001.0</td>\n      <td>22</td>\n      <td>10</td>\n      <td>1203</td>\n    </tr>\n    <tr>\n      <th>722</th>\n      <td>723</td>\n      <td>Luis Abram\\Luis-Abram</td>\n      <td>pe PER</td>\n      <td>DF</td>\n      <td>Vélez Sarsf</td>\n      <td>23.0</td>\n      <td>1996.0</td>\n      <td>19</td>\n      <td>19</td>\n      <td>1690</td>\n    </tr>\n  </tbody>\n</table>\n<p>723 rows × 10 columns</p>\n</div>"
     },
     "metadata": {},
     "execution_count": 44
    }
   ],
   "source": [
    "df"
   ]
  },
  {
   "cell_type": "code",
   "execution_count": 41,
   "metadata": {},
   "outputs": [
    {
     "output_type": "execute_result",
     "data": {
      "text/plain": "Squad        Age \nAldosivi     18.0      44\n             19.0      56\n             20.0     337\n             22.0    1066\n             23.0    1820\n                     ... \nVélez Sarsf  30.0    1710\n             31.0      11\n             32.0     360\n             33.0    1035\n             40.0       3\nName: Min, Length: 359, dtype: int64"
     },
     "metadata": {},
     "execution_count": 41
    }
   ],
   "source": [
    "#group by team and sum minutes\n",
    "team_min = df.groupby(['Squad','Age'])['Min'].sum()\n",
    "team_min"
   ]
  },
  {
   "cell_type": "code",
   "execution_count": null,
   "metadata": {},
   "outputs": [],
   "source": []
  }
 ]
}